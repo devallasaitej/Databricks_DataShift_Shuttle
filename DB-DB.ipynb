{
 "cells": [
  {
   "cell_type": "code",
   "execution_count": 0,
   "metadata": {
    "application/vnd.databricks.v1+cell": {
     "cellMetadata": {
      "byteLimit": 2048000,
      "rowLimit": 10000
     },
     "inputWidgets": {},
     "nuid": "7f136770-6020-4fa1-ad54-e786c5f7c097",
     "showTitle": true,
     "title": "Input Parameter Requirements"
    }
   },
   "outputs": [],
   "source": [
    "# Source DB: Defaults to MySQL\n",
    "# Source DB Access Name: Required\n",
    "# Source DB Table: Required [schema_name.table_name] [If multiple tables used in DML, fill first table name]\n",
    "# DML: Defaults to: SELECT * FROM Source-Table\n",
    "# Target DB: Defaults to MySQL\n",
    "# Target DB Access Name: Required\n",
    "# Target DB Table: Required [schema_name.table_name] \n",
    "# Email Notification: Defaults to skip [Requires email id to send notification]"
   ]
  },
  {
   "cell_type": "code",
   "execution_count": 0,
   "metadata": {
    "application/vnd.databricks.v1+cell": {
     "cellMetadata": {
      "byteLimit": 2048000,
      "rowLimit": 10000
     },
     "inputWidgets": {},
     "nuid": "9fafbe2c-67b4-4e02-be17-5389f774fdd8",
     "showTitle": true,
     "title": "Creating Widgets"
    }
   },
   "outputs": [],
   "source": [
    "# #Source Inputs\n",
    "# dbutils.widgets.removeAll()\n",
    "# dbutils.widgets.dropdown(\"Source_DB\", \"MySQL\", [\"MySQL\", \"PSQL\"])\n",
    "# dbutils.widgets.text(\"Source_DB_Acces\", \"\")\n",
    "# dbutils.widgets.text(\"Source_DB_Table\", \"\")\n",
    "# dbutils.widgets.text(\"DML\", \"\")\n",
    "# dbutils.widgets.dropdown(\"Load_Type\",\"Append\",[\"Append\",\"Overwrite\"])\n",
    "\n",
    "# #Target Inputs\n",
    "# dbutils.widgets.dropdown(\"Target_DB\", \"MySQL\", [\"MySQL\", \"PSQL\"])\n",
    "# dbutils.widgets.text(\"Target_DB_Access\", \"\")\n",
    "# dbutils.widgets.text(\"Target_DB_Table\", \"\")\n",
    "# dbutils.widgets.text(\"Notification_Recipient\",\"\")"
   ]
  },
  {
   "cell_type": "code",
   "execution_count": 0,
   "metadata": {
    "application/vnd.databricks.v1+cell": {
     "cellMetadata": {
      "byteLimit": 2048000,
      "rowLimit": 10000
     },
     "inputWidgets": {},
     "nuid": "c4f5146f-6dde-4b89-838f-7afd3734ca5e",
     "showTitle": true,
     "title": "Loading Configs"
    }
   },
   "outputs": [],
   "source": [
    "%run ./configs"
   ]
  },
  {
   "cell_type": "code",
   "execution_count": 0,
   "metadata": {
    "application/vnd.databricks.v1+cell": {
     "cellMetadata": {
      "byteLimit": 2048000,
      "rowLimit": 10000
     },
     "inputWidgets": {},
     "nuid": "f382dad9-fda7-40fa-9a66-6eb9074b41fb",
     "showTitle": true,
     "title": "Validating Inputs"
    }
   },
   "outputs": [],
   "source": [
    "# Reading user inputs\n",
    "source_db = getArgument('Source_DB').strip()\n",
    "source_access = getArgument('Source_DB_Acces').strip()\n",
    "source_table = getArgument('Source_DB_Table').strip()\n",
    "DML = getArgument('DML').strip()\n",
    "load_type = getArgument('Load_Type').strip()\n",
    "target_db = getArgument('Target_DB').strip()\n",
    "target_access = getArgument('Target_DB_Access').strip()\n",
    "target_table = getArgument('Target_DB_Table').strip()\n",
    "notify_recipient = getArgument('Notification_Recipient').strip()\n",
    "sdb_conn ={}\n",
    "tdb_conn= {}\n",
    "\n",
    "# Validating user inputs\n",
    "if source_access == '':\n",
    "  dbutils.notebook.exit(\"Source DB Access name missing!\")\n",
    "elif source_table == '':\n",
    "  dbutils.notebook.exit(\"Source Table info missing!\")\n",
    "elif len(source_table.split('.')) != 2:\n",
    "  dbutils.notebook.exit(\"Schema name missing in source table!\")\n",
    "elif target_access == '':\n",
    "  dbutils.notebook.exit(\"Target DB Access Name missing!\")\n",
    "elif target_table == '':\n",
    "  dbutils.notebook.exit(\"Target Table info missing!\")\n",
    "elif len(target_table.split('.')) != 2:\n",
    "  dbutils.notebook.exit(\"Schema name missing in target table!\")\n",
    "\n",
    "if source_access in db_access_list:\n",
    "  sdb_conn['db_host'] = db_hosts[source_access]\n",
    "  sdb_conn['db_username'] = db_usernames[source_access]\n",
    "  sdb_conn['db_password'] = db_passwords[source_access]\n",
    "else:\n",
    "  dbutils.notebook.exit(\"Invalid Source DB Access Name!\")\n",
    "\n",
    "if target_access in db_access_list:\n",
    "  tdb_conn['db_host'] = db_hosts[target_access]\n",
    "  tdb_conn['db_username'] = db_usernames[target_access]\n",
    "  tdb_conn['db_password'] = db_passwords[target_access]\n",
    "else:\n",
    "  dbutils.notebook.exit(\"Invalid Target DB Access Name!\")\n",
    "service = 'DB-DB'"
   ]
  },
  {
   "cell_type": "code",
   "execution_count": 0,
   "metadata": {
    "application/vnd.databricks.v1+cell": {
     "cellMetadata": {
      "byteLimit": 2048000,
      "rowLimit": 10000
     },
     "inputWidgets": {},
     "nuid": "f1dce3ca-5e3a-4d84-a80c-4862a37ca09e",
     "showTitle": true,
     "title": "Importing Required libraries"
    }
   },
   "outputs": [],
   "source": [
    "import boto3\n",
    "import uuid\n",
    "import datetime, time\n",
    "from datetime import datetime\n",
    "import logging\n",
    "import re\n",
    "# Create a logger\n",
    "logger = logging.getLogger()\n",
    "logger.setLevel(logging.INFO)"
   ]
  },
  {
   "cell_type": "code",
   "execution_count": 0,
   "metadata": {
    "application/vnd.databricks.v1+cell": {
     "cellMetadata": {
      "byteLimit": 2048000,
      "rowLimit": 10000
     },
     "inputWidgets": {},
     "nuid": "ba24fe5c-f2e3-4651-981a-d8cc9e06556f",
     "showTitle": true,
     "title": "Generating Run Identifier"
    }
   },
   "outputs": [
    {
     "output_type": "stream",
     "name": "stdout",
     "output_type": "stream",
     "text": [
      "run_id: 1a87326b-95e2-409b-a4db-c3bcb6570910\n"
     ]
    }
   ],
   "source": [
    "run_id = uuid.uuid4()\n",
    "print('run_id:',run_id)"
   ]
  },
  {
   "cell_type": "code",
   "execution_count": 0,
   "metadata": {
    "application/vnd.databricks.v1+cell": {
     "cellMetadata": {
      "byteLimit": 2048000,
      "rowLimit": 10000
     },
     "inputWidgets": {},
     "nuid": "9e829b01-faed-49b5-927b-83497242ff95",
     "showTitle": true,
     "title": "SQL Query Executor function"
    }
   },
   "outputs": [],
   "source": [
    "def run_logger(service,log_op, opn, DML, rc, target,status):\n",
    "  \"\"\"\n",
    "  Inputs: SQL Query\n",
    "  Output: Returns True if success\n",
    "  \"\"\"\n",
    "  logging.info(f\"Updating run log table for {opn} operation.....\")\n",
    "  if log_op == 'insert' :\n",
    "    query = f\"INSERT INTO TABLE run_log VALUES('{service}','{run_id}','{source_access}','{source_table}','{DML}','{opn}',{rc},'{target_access}','{target_table}','{status}',current_timestamp())\"\n",
    "  elif log_op == 'update':\n",
    "    query = f\"UPDATE run_log SET status='{status}' where run_id = '{run_id}' and operation='{opn}'\"\n",
    "  # Executing SQL Query\n",
    "  spark.sql(query)\n",
    "  return True"
   ]
  },
  {
   "cell_type": "code",
   "execution_count": 0,
   "metadata": {
    "application/vnd.databricks.v1+cell": {
     "cellMetadata": {
      "byteLimit": 2048000,
      "rowLimit": 10000
     },
     "inputWidgets": {},
     "nuid": "680f5fd1-cc6c-4967-8725-174556cf4577",
     "showTitle": true,
     "title": "Function to read and write data to Target table"
    }
   },
   "outputs": [],
   "source": [
    "def table_data_read_write(sdb_conn, tdb_conn, source_table, DML, target_table, load_type):\n",
    "  \"\"\"\n",
    "  Reads data from source table using DML if DML is blank SELECT * will be used\n",
    "  Write data to target table\n",
    "  Inputs: DB connection details, source table name, DML, target table\n",
    "  Output: record count\n",
    "  \"\"\"\n",
    "\n",
    "  # Reading user input DML\n",
    "  if DML == '':\n",
    "    query = f\"(SELECT * FROM {source_table})as query\"\n",
    "  else:\n",
    "    query = '( '+ DML+' ) as query'\n",
    "  \n",
    "  print('Executable Query:',query)\n",
    "\n",
    "  sdb_name = source_table.split('.')[0]\n",
    "  sdbtable = source_table.split('.')[1]\n",
    "  tdb_name = target_table.split('.')[0]\n",
    "  tdbtable = target_table.split('.')[1]\n",
    "\n",
    "  # Preparing url string for source JDBC connection\n",
    "  if source_db == 'MySQL':\n",
    "    surl = f\"jdbc:mysql://{sdb_conn['db_host']}:3306/{sdb_name}\" \n",
    "  elif source_db == 'PSQL':\n",
    "    surl = f\"jdbc:postgresql://{sdb_conn['db_host']}:5432/{sdb_name}\" \n",
    "\n",
    "  # Reading source query data\n",
    "  try:\n",
    "    read_df = (spark.read\n",
    "    .format(\"jdbc\")\n",
    "    .option(\"url\", surl)\n",
    "    .option(\"dbtable\", query)\n",
    "    .option(\"user\", sdb_conn['db_username'])\n",
    "    .option(\"password\", sdb_conn['db_password'])\n",
    "    .load()\n",
    "    )\n",
    "  except Exception as e:\n",
    "    logging.error(f\"Unable to read data from table:{e}\")\n",
    "    run_logger('DB-DB','insert','read', query, 0, target_db ,'failed')\n",
    "    return None\n",
    "  \n",
    "  if read_df :\n",
    "    rc = read_df.count()\n",
    "    query = query.replace(\"'\", \"\\\\'\")\n",
    "    run_logger('DB-DB','insert','read', query, rc, target_db ,'success')\n",
    "    logging.info(\"Completed reading from table ......\")\n",
    "\n",
    "    # Preparing url string for target JDBC connection\n",
    "    if target_db == 'MySQL':\n",
    "      turl = f\"jdbc:mysql://{tdb_conn['db_host']}:3306/{tdb_name}\" \n",
    "    elif target_db == 'PSQL':\n",
    "      turl = f\"jdbc:postgresql://{tdb_conn['db_host']}:5432/{tdb_name}\" \n",
    "\n",
    "    # Writing read df to target table\n",
    "    try: \n",
    "      (\n",
    "      read_df.write\n",
    "      .format(\"jdbc\")\n",
    "      .option(\"url\", turl)\n",
    "      .option(\"dbtable\",tdbtable)\n",
    "      .option(\"user\", tdb_conn['db_username'])\n",
    "      .option(\"password\", tdb_conn['db_password'])\n",
    "      .mode(load_type)\n",
    "      .save()\n",
    "      )\n",
    "      run_logger('DB-DB','insert','write', query, rc, target_db ,'success')\n",
    "      logging.info(\"Completed writing to target table.......\")\n",
    "      return rc\n",
    "    except Exception as e:\n",
    "      logging.error(f\"Unable to write data to table: {e}\")\n",
    "      query = query.replace(\"'\", \"\\\\'\")\n",
    "      run_logger('DB-DB','insert','write', query, 0, target_db ,'failed')\n",
    "      return None\n",
    "  else:\n",
    "    query = query.replace(\"'\", \"\\\\'\")\n",
    "    run_logger('DB-DB','insert','read', query, 0, target_db ,'failed')\n",
    "    logging.info(\"Error during reading from source table ......\")\n",
    "    return None"
   ]
  },
  {
   "cell_type": "code",
   "execution_count": 0,
   "metadata": {
    "application/vnd.databricks.v1+cell": {
     "cellMetadata": {
      "byteLimit": 2048000,
      "rowLimit": 10000
     },
     "inputWidgets": {},
     "nuid": "c81e95df-4dd2-4110-a6ea-a6faa1a6c068",
     "showTitle": true,
     "title": "Calling Main function"
    }
   },
   "outputs": [
    {
     "output_type": "stream",
     "name": "stdout",
     "output_type": "stream",
     "text": [
      "Executable Query: (SELECT * FROM reddit.reddit_posts_agg)as query\n"
     ]
    },
    {
     "output_type": "stream",
     "name": "stderr",
     "output_type": "stream",
     "text": [
      "INFO:root:Updating run log table for read operation.....\nINFO:root:Completed reading from table ......\nINFO:root:Updating run log table for write operation.....\nINFO:root:Completed writing to target table.......\nINFO:root:2754 records loaded to table reddit.reddit_posts_agg_c\n"
     ]
    }
   ],
   "source": [
    "status = table_data_read_write(sdb_conn, tdb_conn, source_table, DML, target_table, load_type)\n",
    "# Checking run\n",
    "if status :\n",
    "  logging.info(f\"{status} records loaded to table {target_table}\")\n",
    "else:\n",
    "  logging.info(\"Data load failed to target table!!\")"
   ]
  },
  {
   "cell_type": "code",
   "execution_count": 0,
   "metadata": {
    "application/vnd.databricks.v1+cell": {
     "cellMetadata": {
      "byteLimit": 2048000,
      "rowLimit": 10000
     },
     "inputWidgets": {},
     "nuid": "e3405526-81fe-4aa9-b88a-667d29987497",
     "showTitle": true,
     "title": "Function to send Email Notification"
    }
   },
   "outputs": [],
   "source": [
    "from botocore.exceptions import ClientError\n",
    "def send_email(subject, body_html, sender, recipients):\n",
    "\n",
    "  \"\"\"\n",
    "  This function sends email notification to recipeints on run status\n",
    "  Inputs: Email content, receiver email address list\n",
    "  Output: Success/Failure message\n",
    "  \"\"\"\n",
    "  access_key = ses_conn['access_key']\n",
    "  secret_key = ses_conn['secret_key']\n",
    "\n",
    "  #Creating boto3 ses client\n",
    "  ses_client = boto3.client('ses', aws_access_key_id=access_key, aws_secret_access_key=secret_key, region_name = 'us-east-2')\n",
    "\n",
    "  # Create a MIME message\n",
    "  body_text = \"This email requires HTML support. Please view in a HTML-compatible email client.\"\n",
    "  charset = \"UTF-8\"\n",
    "  \n",
    "  # Assemble the email\n",
    "  try:\n",
    "      response = ses_client.send_email(\n",
    "          Destination={\n",
    "              'ToAddresses': recipients,\n",
    "          },\n",
    "          Message={\n",
    "              'Body': {\n",
    "                  'Html': {\n",
    "                      'Charset': charset,\n",
    "                      'Data': body_html,\n",
    "                  },\n",
    "                  'Text': {\n",
    "                      'Charset': charset,\n",
    "                      'Data': body_text,\n",
    "                  },\n",
    "              },\n",
    "              'Subject': {\n",
    "                  'Charset': charset,\n",
    "                  'Data': subject,\n",
    "              },\n",
    "          },\n",
    "          Source=sender,\n",
    "      )\n",
    "  except ClientError as e:\n",
    "      print(e.response['Error']['Message'])\n",
    "  else:\n",
    "      print(\"Email sent! Message ID:\", response['MessageId'])"
   ]
  },
  {
   "cell_type": "code",
   "execution_count": 0,
   "metadata": {
    "application/vnd.databricks.v1+cell": {
     "cellMetadata": {
      "byteLimit": 2048000,
      "rowLimit": 10000
     },
     "inputWidgets": {},
     "nuid": "b6b5ba8b-5a9d-4d79-a7da-9e65c0b4d468",
     "showTitle": true,
     "title": "Function to generate HTML Body"
    }
   },
   "outputs": [],
   "source": [
    "def dataframe_to_html_table(df):\n",
    "    # Convert DataFrame to HTML table\n",
    "    html_table = df.to_html(index=False)\n",
    "    # Add inline CSS styling to color the header\n",
    "    styled_header = '<th style=\"background-color: #FB451D; color: white;\">'\n",
    "    html_table = html_table.replace('<th>', styled_header)\n",
    "    # Format the HTML table\n",
    "    formatted_html_table = f'<html><body>{html_table}</body></html>'\n",
    "    return formatted_html_table"
   ]
  },
  {
   "cell_type": "code",
   "execution_count": 0,
   "metadata": {
    "application/vnd.databricks.v1+cell": {
     "cellMetadata": {
      "byteLimit": 2048000,
      "rowLimit": 10000
     },
     "inputWidgets": {},
     "nuid": "ef0f12bf-9b29-44fe-9c81-f49c3aef9464",
     "showTitle": true,
     "title": "Calling Email send function"
    }
   },
   "outputs": [
    {
     "output_type": "display_data",
     "data": {
      "text/html": [
       "<html><body><p>Hi,</p><p>Please find the status of service: DB-DB with run id: 1a87326b-95e2-409b-a4db-c3bcb6570910</p><html><body><table border=\"1\" class=\"dataframe\">\n",
       "  <thead>\n",
       "    <tr style=\"text-align: right;\">\n",
       "      <th style=\"background-color: #FB451D; color: white;\">Service</th>\n",
       "      <th style=\"background-color: #FB451D; color: white;\">Source_Table</th>\n",
       "      <th style=\"background-color: #FB451D; color: white;\">DML</th>\n",
       "      <th style=\"background-color: #FB451D; color: white;\">Task</th>\n",
       "      <th style=\"background-color: #FB451D; color: white;\">Record_Count</th>\n",
       "      <th style=\"background-color: #FB451D; color: white;\">Target_Table</th>\n",
       "      <th style=\"background-color: #FB451D; color: white;\">Status</th>\n",
       "      <th style=\"background-color: #FB451D; color: white;\">Timestamp</th>\n",
       "    </tr>\n",
       "  </thead>\n",
       "  <tbody>\n",
       "    <tr>\n",
       "      <td>DB-DB</td>\n",
       "      <td>reddit.reddit_posts_agg</td>\n",
       "      <td>(SELECT * FROM reddit.reddit_posts_agg)as query</td>\n",
       "      <td>read</td>\n",
       "      <td>2754</td>\n",
       "      <td>reddit.reddit_posts_agg_c</td>\n",
       "      <td>success</td>\n",
       "      <td>2024-03-23 16:31:09.045</td>\n",
       "    </tr>\n",
       "    <tr>\n",
       "      <td>DB-DB</td>\n",
       "      <td>reddit.reddit_posts_agg</td>\n",
       "      <td>(SELECT * FROM reddit.reddit_posts_agg)as query</td>\n",
       "      <td>write</td>\n",
       "      <td>2754</td>\n",
       "      <td>reddit.reddit_posts_agg_c</td>\n",
       "      <td>success</td>\n",
       "      <td>2024-03-23 16:33:28.687</td>\n",
       "    </tr>\n",
       "  </tbody>\n",
       "</table></body></html></body></html>"
      ]
     },
     "metadata": {
      "application/vnd.databricks.v1+output": {
       "addedWidgets": {},
       "arguments": {},
       "data": "<html><body><p>Hi,</p><p>Please find the status of service: DB-DB with run id: 1a87326b-95e2-409b-a4db-c3bcb6570910</p><html><body><table border=\"1\" class=\"dataframe\">\n  <thead>\n    <tr style=\"text-align: right;\">\n      <th style=\"background-color: #FB451D; color: white;\">Service</th>\n      <th style=\"background-color: #FB451D; color: white;\">Source_Table</th>\n      <th style=\"background-color: #FB451D; color: white;\">DML</th>\n      <th style=\"background-color: #FB451D; color: white;\">Task</th>\n      <th style=\"background-color: #FB451D; color: white;\">Record_Count</th>\n      <th style=\"background-color: #FB451D; color: white;\">Target_Table</th>\n      <th style=\"background-color: #FB451D; color: white;\">Status</th>\n      <th style=\"background-color: #FB451D; color: white;\">Timestamp</th>\n    </tr>\n  </thead>\n  <tbody>\n    <tr>\n      <td>DB-DB</td>\n      <td>reddit.reddit_posts_agg</td>\n      <td>(SELECT * FROM reddit.reddit_posts_agg)as query</td>\n      <td>read</td>\n      <td>2754</td>\n      <td>reddit.reddit_posts_agg_c</td>\n      <td>success</td>\n      <td>2024-03-23 16:31:09.045</td>\n    </tr>\n    <tr>\n      <td>DB-DB</td>\n      <td>reddit.reddit_posts_agg</td>\n      <td>(SELECT * FROM reddit.reddit_posts_agg)as query</td>\n      <td>write</td>\n      <td>2754</td>\n      <td>reddit.reddit_posts_agg_c</td>\n      <td>success</td>\n      <td>2024-03-23 16:33:28.687</td>\n    </tr>\n  </tbody>\n</table></body></html></body></html>",
       "datasetInfos": [],
       "metadata": {},
       "removedWidgets": [],
       "textData": null,
       "type": "htmlSandbox"
      }
     },
     "output_type": "display_data"
    },
    {
     "output_type": "stream",
     "name": "stdout",
     "output_type": "stream",
     "text": [
      "No recipients to send email!\n"
     ]
    }
   ],
   "source": [
    "subject = f\"{service} run status for run id - {run_id}\"\n",
    "df = spark.sql(\"\"\" select distinct service as Service, source_path_table as `Source_Table`,source_file_dml as DML, operation as Task, record_count as Record_Count, target_path_table as Target_Table, Status, Timestamp from run_log where run_id = '{}' order by task \"\"\".format(run_id ))\n",
    "html_table = dataframe_to_html_table(df.toPandas())\n",
    "body_html = f\"<html><body><p>Hi,</p><p>Please find the status of service: {service} with run id: {run_id}</p>{html_table}</body></html>\"\n",
    "displayHTML(body_html)\n",
    "sender = \"noreplyd22snotification@gmail.com\"\n",
    "if notify_recipient != '' :\n",
    "  recipients = notify_recipient.split(',')\n",
    "else:\n",
    "   recipients = []\n",
    "if len(recipients) > 0:\n",
    "  send_email(subject, body_html, sender, recipients)\n",
    "else:\n",
    "  print('No recipients to send email!')"
   ]
  }
 ],
 "metadata": {
  "application/vnd.databricks.v1+notebook": {
   "dashboards": [],
   "language": "python",
   "notebookMetadata": {
    "mostRecentlyExecutedCommandWithImplicitDF": {
     "commandId": 3497264830918377,
     "dataframes": [
      "_sqldf"
     ]
    },
    "pythonIndentUnit": 2,
    "widgetLayout": [
     {
      "breakBefore": false,
      "name": "Source_DB",
      "width": 166
     },
     {
      "breakBefore": false,
      "name": "Source_DB_Acces",
      "width": 166
     },
     {
      "breakBefore": false,
      "name": "Source_DB_Table",
      "width": 408
     },
     {
      "breakBefore": false,
      "name": "DML",
      "width": 650
     },
     {
      "breakBefore": false,
      "name": "Target_DB",
      "width": 166
     },
     {
      "breakBefore": false,
      "name": "Target_DB_Access",
      "width": 166
     },
     {
      "breakBefore": false,
      "name": "Target_DB_Table",
      "width": 408
     },
     {
      "breakBefore": false,
      "name": "Load_Type",
      "width": 105
     },
     {
      "breakBefore": false,
      "name": "Notification_Recipient",
      "width": 529
     }
    ]
   },
   "notebookName": "DB-DB",
   "widgets": {
    "DML": {
     "currentValue": "",
     "nuid": "706d0bed-9adf-4d97-9805-1647e76bcd68",
     "widgetInfo": {
      "widgetType": "text",
      "defaultValue": "",
      "label": null,
      "name": "DML",
      "options": {
       "widgetType": "text",
       "autoCreated": null,
       "validationRegex": null
      }
     }
    },
    "Load_Type": {
     "currentValue": "Overwrite",
     "nuid": "3b392d2f-70be-4866-b2a6-af98209ea816",
     "widgetInfo": {
      "widgetType": "dropdown",
      "defaultValue": "Append",
      "label": null,
      "name": "Load_Type",
      "options": {
       "widgetType": "dropdown",
       "autoCreated": null,
       "choices": [
        "Append",
        "Overwrite"
       ]
      }
     }
    },
    "Notification_Recipient": {
     "currentValue": "",
     "nuid": "0a25f065-8e37-43ba-b7ca-b90aaa9b5d1e",
     "widgetInfo": {
      "widgetType": "text",
      "defaultValue": "",
      "label": null,
      "name": "Notification_Recipient",
      "options": {
       "widgetType": "text",
       "autoCreated": null,
       "validationRegex": null
      }
     }
    },
    "Source_DB": {
     "currentValue": "MySQL",
     "nuid": "b32eadea-6fd2-4c1e-bb51-4241ed36d06c",
     "widgetInfo": {
      "widgetType": "dropdown",
      "defaultValue": "MySQL",
      "label": null,
      "name": "Source_DB",
      "options": {
       "widgetType": "dropdown",
       "autoCreated": null,
       "choices": [
        "MySQL",
        "PSQL"
       ]
      }
     }
    },
    "Source_DB_Acces": {
     "currentValue": "sd_rds",
     "nuid": "7362d4b6-1a60-4b46-9ee7-3ae650c90722",
     "widgetInfo": {
      "widgetType": "text",
      "defaultValue": "",
      "label": null,
      "name": "Source_DB_Acces",
      "options": {
       "widgetType": "text",
       "autoCreated": null,
       "validationRegex": null
      }
     }
    },
    "Source_DB_Table": {
     "currentValue": "reddit.reddit_posts_agg",
     "nuid": "92b82ca2-0dbb-463f-9b32-06a7d8d906cd",
     "widgetInfo": {
      "widgetType": "text",
      "defaultValue": "",
      "label": null,
      "name": "Source_DB_Table",
      "options": {
       "widgetType": "text",
       "autoCreated": null,
       "validationRegex": null
      }
     }
    },
    "Target_DB": {
     "currentValue": "MySQL",
     "nuid": "e057cb86-c520-46ce-a826-8bf0c8169682",
     "widgetInfo": {
      "widgetType": "dropdown",
      "defaultValue": "MySQL",
      "label": null,
      "name": "Target_DB",
      "options": {
       "widgetType": "dropdown",
       "autoCreated": null,
       "choices": [
        "MySQL",
        "PSQL"
       ]
      }
     }
    },
    "Target_DB_Access": {
     "currentValue": "sd_rds",
     "nuid": "47051b5c-4138-432e-a5ca-7f22dc3efee3",
     "widgetInfo": {
      "widgetType": "text",
      "defaultValue": "",
      "label": null,
      "name": "Target_DB_Access",
      "options": {
       "widgetType": "text",
       "autoCreated": null,
       "validationRegex": null
      }
     }
    },
    "Target_DB_Table": {
     "currentValue": "reddit.reddit_posts_agg_c",
     "nuid": "39eb9e28-2abe-41f4-a74f-d316ed25986c",
     "widgetInfo": {
      "widgetType": "text",
      "defaultValue": "",
      "label": null,
      "name": "Target_DB_Table",
      "options": {
       "widgetType": "text",
       "autoCreated": null,
       "validationRegex": null
      }
     }
    }
   }
  }
 },
 "nbformat": 4,
 "nbformat_minor": 0
}
