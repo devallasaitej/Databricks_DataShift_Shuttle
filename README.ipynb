{
 "cells": [
  {
   "cell_type": "markdown",
   "metadata": {
    "application/vnd.databricks.v1+cell": {
     "cellMetadata": {},
     "inputWidgets": {},
     "nuid": "2465fe79-e42c-464a-8f93-685bf7f46959",
     "showTitle": false,
     "title": ""
    }
   },
   "source": [
    "<div style=\"text-align:center;\">\n",
    "    <h1>D2S - Databricks DataShift Shuttle</h1>\n",
    "</div>"
   ]
  },
  {
   "cell_type": "markdown",
   "metadata": {
    "application/vnd.databricks.v1+cell": {
     "cellMetadata": {},
     "inputWidgets": {},
     "nuid": "6ccbe877-b02d-4bc6-8d16-f1bd7946c1f7",
     "showTitle": false,
     "title": ""
    }
   },
   "source": [
    "Author: Sai Teja Devalla\\\n",
    "Version: v0.1\\\n",
    "Last Updated on: 2024-03-21\\\n",
    "Contact: www.linkedin.com/in/saiteja-devalla"
   ]
  },
  {
   "cell_type": "markdown",
   "metadata": {
    "application/vnd.databricks.v1+cell": {
     "cellMetadata": {},
     "inputWidgets": {},
     "nuid": "3e4d7392-1c8a-432f-a1f1-ce2de77ece77",
     "showTitle": false,
     "title": ""
    }
   },
   "source": [
    "### What is D2S?\n",
    "D2S stands for Databricks DataShift Shuttle. It's a versatile data transfer solution built on Databricks enabling seamless data movement between different systems and environments. Whether it's an adhoc transfer across internal teams or scheduled data pipelines moving data to and fro between internal systems and external data stakeholders, it gets your data lift, shift and load operations done in a simple & compliant way. Also, it brings your team a good level of Data Governance perspective for all - __\"Could you quickly pull this data for me\"__ kind of requests from your allied teams!\n",
    "#### Move your data easily to and fro across platforms\n",
    "* Between AWS S3 Bucket and Relational Databases - MySQL or PostgreSQL\n",
    "* Between different Relational Databases - MySQL or PostgreSQL\n",
    "* Between an SFTP Server and AWS S3 Bucket\n",
    "* Between different AWS S3 accounts\n",
    "#### Features\n",
    "* File selection based on file naming pattern containing dates and timestamps\n",
    "  * Selects latest file evaluated based on timestamp present in file name\n",
    "  * Writes file with user provided name pattern included with timestamp or date pattern\n",
    "* Copying multiple files between different S3 Buckets in a single go\n",
    "* Many to one conversion of files between SFTP server to S3 bucket\n",
    "* Load data into table in either append or overwrite mode\n",
    "* Write data from database table to different file formats: csv, txt and parquet\n",
    "* Keeps track of file details, number of records present, source-destination details etc.\n",
    "* Receive an email notification with comprehensive details and status of process run once it's finished\n",
    "#### In a nutshell, D2S brings in a robust Data Governance perspective to your data team providing you a complete view of a Dataset journey details including:\n",
    "* Which Dataset?  : Track identity of Dataset & number of records present in it\n",
    "* What Time?      : Track timestamps at which data got processed\n",
    "* Where to Where? : Track source and destination of dataset\n",
    "* Who?: Track who is sending out & receiving in data"
   ]
  },
  {
   "cell_type": "markdown",
   "metadata": {
    "application/vnd.databricks.v1+cell": {
     "cellMetadata": {},
     "inputWidgets": {},
     "nuid": "f1127dc9-cd15-43ac-81e4-f2213f4928ec",
     "showTitle": false,
     "title": ""
    }
   },
   "source": [
    "###  User Guide"
   ]
  },
  {
   "cell_type": "markdown",
   "metadata": {
    "application/vnd.databricks.v1+cell": {
     "cellMetadata": {},
     "inputWidgets": {},
     "nuid": "5e777241-19f2-4f0f-8ebd-46f86b1286d2",
     "showTitle": false,
     "title": ""
    }
   },
   "source": [
    "#### S3 - Relational Databases\n",
    "Notebook / Service name:  S3-DB\\\n",
    "Functionality: Reads files from AWS S3 and loads into Relational Database table\\\n",
    "Notebook Link: https://databricks-prod-cloudfront.cloud.databricks.com/public/4027ec902e239c93eaaa8714f173bcfc/3117515145466176/3637825135857308/2802065411328882/latest.html\n",
    "##### Notebook Widgets Input guide:\n",
    "* Source_S3_Access : Valid S3 access name defined in configs notebook.\n",
    "* Source_S3_File_Path : File path at S3 location which needs to be processed.\n",
    "* Allowed input patterns for Source_S3_File_Path:\n",
    "  * Exact S3 file path can be provided : s3://bucket-name/prefix/filename\n",
    "  * Name Pattern with date : s3://bucket-name/prefix/filename_yyyymmdd.format [File with latest date will be selected]\n",
    "  * Name pattern with datetime: s3://bucket-name/prefix/filename_yyyymmddHHMMSS.format [File with latest timestamp will be selected]\n",
    "  * Just path to directory: S3://bucket-name/prefix/   [Note: All files present in directory will be processed in this case]\n",
    "* Header Row: True by default, can be changed to False using dropdown option\n",
    "* Load Type: Append mode by default, can be changed to Overwrite using dropdown option\n",
    "* Target DB: Target database type, can be selected from dropdown\n",
    "* Target DB Access: Valid DB access name defined in configs notebook\n",
    "* Target DB Table: Target table name with pattern: schema.table_name\n",
    "* Notification Recipeints: Multiple email ids separated with ',' are allowed.\n"
   ]
  },
  {
   "cell_type": "markdown",
   "metadata": {
    "application/vnd.databricks.v1+cell": {
     "cellMetadata": {},
     "inputWidgets": {},
     "nuid": "328fec18-6b56-4b84-b9b1-700dadb560ec",
     "showTitle": false,
     "title": ""
    }
   },
   "source": [
    "#### Relational Databases - S3\n",
    "Notebook / Service name:  DB-S3\\\n",
    "Functionality: Reads data from Relational Database table and writes file to AWS S3 bucket\\\n",
    "Notebook Link: https://databricks-prod-cloudfront.cloud.databricks.com/public/4027ec902e239c93eaaa8714f173bcfc/3117515145466176/3784366655623039/2802065411328882/latest.html\n",
    "\n",
    "##### Notebook Widgets Input guide\n",
    "* Source DB: Source database type, can be selected from dropdown.\n",
    "* Source DB Access: Valid DB access name defined in configs notebook.\n",
    "* Source DB Table: Target table name with pattern: schema.table_name\n",
    "* DML : SQL query can be input to get required data. If left blank, SELECT * FROM Source DB Table will be used\n",
    "* Target_S3_Access : Valid S3 access name defined in configs notebook.\n",
    "* Target_S3_File_Path : File path at destination S3 bucket.\n",
    "* Allowed input patterns for Target_S3_File_Path:\n",
    "  * Exact S3 file path can be provided : s3://bucket-name/prefix/filename\n",
    "  * Name Pattern with date : s3://bucket-name/prefix/filename_yyyymmdd.format [File with latest date will be selected]\n",
    "  * Name pattern with datetime: s3://bucket-name/prefix/filename_yyyymmddHHMMSS.format [File with latest timestamp will be selected]\n",
    "  * Just path to directory: S3://bucket-name/prefix/ [In this case, table_name_yyyymmddhhmmss.csv will be used as final file name]\n",
    "* Target Delimiter: ',' will be used as default in final file\n",
    "* Notification Recipeints: Multiple email ids separated with ',' are allowed."
   ]
  },
  {
   "cell_type": "markdown",
   "metadata": {
    "application/vnd.databricks.v1+cell": {
     "cellMetadata": {},
     "inputWidgets": {},
     "nuid": "2e8fbcc8-6d16-405a-a879-67deb4f1eba5",
     "showTitle": false,
     "title": ""
    }
   },
   "source": [
    "#### SFTP - S3\n",
    "Notebook / Service name:  SFTP-S3\\\n",
    "Functionality: Transfers files from SFTP Server to AWS S3 bucket\\\n",
    "Notebook Link: https://databricks-prod-cloudfront.cloud.databricks.com/public/4027ec902e239c93eaaa8714f173bcfc/3117515145466176/2485462329268935/2802065411328882/latest.html\n",
    "##### Notebook Widgets Input guide\n",
    "* Source SFTP Access: Valid SFTP access name defined in configs notebook.\n",
    "* Source_SFTP_File_Path : File path in SFTP Server.\n",
    "* Allowed input patterns for Source_SFTP_File_Path:\n",
    "  * Exact SFTP file path can be provided : /Home/Dir-1/Dir-2/filename\n",
    "  * Name Pattern with date : /Home/Dir-1/Dir-2/filename_yyyymmdd.format [File with latest date will be selected]\n",
    "  * Name pattern with datetime: /Home/Dir-1/Dir-2/filename_yyyymmddHHMMSS.format [File with latest timestamp will be selected]\n",
    "  * Just path to directory: /Home/Dir-1/Dir-2/ [Note: All files present in directory will be processed to a single file in this case]\n",
    "* Target_S3_Access : Valid S3 access name defined in configs notebook.\n",
    "* Target_S3_File_Path : File path at destination S3 bucket.\n",
    "* Allowed input patterns for Target_S3_File_Path:\n",
    "  * Exact S3 file path can be provided : s3://bucket-name/prefix/filename\n",
    "  * Name Pattern with date : s3://bucket-name/prefix/filename_yyyymmdd.format\n",
    "  * Name pattern with datetime: s3://bucket-name/prefix/filename_yyyymmddHHMMSS.format\n",
    "* Notification Recipeints: Multiple email ids separated with ',' are allowed."
   ]
  },
  {
   "cell_type": "markdown",
   "metadata": {
    "application/vnd.databricks.v1+cell": {
     "cellMetadata": {},
     "inputWidgets": {},
     "nuid": "ce620087-e53f-4d3b-a336-53c27d2c6e7a",
     "showTitle": false,
     "title": ""
    }
   },
   "source": [
    "#### S3 - S3\n",
    "Notebook / Service name:  S3-S3\\\n",
    "Functionality: Transfers files between S3 Buckets\\\n",
    "Notebook Link: https://databricks-prod-cloudfront.cloud.databricks.com/public/4027ec902e239c93eaaa8714f173bcfc/3117515145466176/1210973057360826/2802065411328882/latest.html\n",
    "##### Notebook Widgets Input guide\n",
    "* Source_S3_Access : Valid S3 access name defined in configs notebook.\n",
    "* Source_S3_File_Path : File path at S3 location which needs to be processed.\n",
    "* Allowed input patterns for Source_S3_File_Path:\n",
    "  * Exact S3 file path can be provided : s3://bucket-name/prefix/filename\n",
    "  * Name Pattern with date : s3://bucket-name/prefix/filename_yyyymmdd.format [File with latest date will be selected]\n",
    "  * Name pattern with datetime: s3://bucket-name/prefix/filename_yyyymmddHHMMSS.format [File with latest timestamp will be selected]\n",
    "  * Just path to directory: S3://bucket-name/prefix/   [Note: All files present in directory will be processed in this case]\n",
    "* Target_S3_Access : Valid S3 access name defined in configs notebook.\n",
    "* Target_S3_File_Path : File path at destination S3 bucket.\n",
    "* Allowed input patterns for Target_S3_File_Path:\n",
    "  * Exact S3 file path can be provided : s3://bucket-name/prefix/filename\n",
    "  * Name Pattern with date : s3://bucket-name/prefix/filename_yyyymmdd.format [File with latest date will be selected]\n",
    "  * Name pattern with datetime: s3://bucket-name/prefix/filename_yyyymmddHHMMSS.format [File with latest timestamp will be selected]\n",
    "  * Just path to directory: S3://bucket-name/prefix/ \n",
    "* Notification Recipeints: Multiple email ids separated with ',' are allowed."
   ]
  },
  {
   "cell_type": "markdown",
   "metadata": {
    "application/vnd.databricks.v1+cell": {
     "cellMetadata": {},
     "inputWidgets": {},
     "nuid": "983c4bfe-b890-46e7-a119-14b6afa4d546",
     "showTitle": false,
     "title": ""
    }
   },
   "source": [
    "#### DB - DB\n",
    "Notebook / Service name:  DB-DB\\\n",
    "Functionality: Transfers data between database tables. Can be within same database or different database\\\n",
    "Notebook Link: https://databricks-prod-cloudfront.cloud.databricks.com/public/4027ec902e239c93eaaa8714f173bcfc/3117515145466176/735411420701782/2802065411328882/latest.html\n",
    "##### Notebook Widgets Input guide\n",
    "* Source DB: Source database type, can be selected from dropdown.\n",
    "* Source DB Access: Valid DB access name defined in configs notebook.\n",
    "* Source DB Table: Target table name with pattern: schema.table_name\n",
    "* DML : SQL query can be input to get required data. If left blank, SELECT * FROM Source DB Table will be used\n",
    "* Target DB: Target database type, can be selected from dropdown\n",
    "* Target DB Access: Valid DB access name defined in configs notebook\n",
    "* Target DB Table: Target table name with pattern: schema.table_name\n",
    "* Load Type: Append mode by default, can be changed to Overwrite using dropdown option\n",
    "* Notification Recipeints: Multiple email ids separated with ',' are allowed."
   ]
  },
  {
   "cell_type": "markdown",
   "metadata": {
    "application/vnd.databricks.v1+cell": {
     "cellMetadata": {},
     "inputWidgets": {},
     "nuid": "8a4d70eb-651d-4230-8ff9-1a9b074821eb",
     "showTitle": false,
     "title": ""
    }
   },
   "source": [
    "### Enhancements with Databricks Subscription"
   ]
  },
  {
   "cell_type": "markdown",
   "metadata": {
    "application/vnd.databricks.v1+cell": {
     "cellMetadata": {},
     "inputWidgets": {},
     "nuid": "507232ea-c213-4ec3-a7ef-7945832dbdd2",
     "showTitle": false,
     "title": ""
    }
   },
   "source": [
    "##### Databricks Secrets\n",
    "Currently all credentials are hardcoded in a separate configs notebook which will be executed at the start of every service which is unsecure. However, this can be avoided with Databricks secrets API to store credentials when working with paid subscription.\\\n",
    "Config Notebook sample: https://databricks-prod-cloudfront.cloud.databricks.com/public/4027ec902e239c93eaaa8714f173bcfc/3117515145466176/1976516525289457/2802065411328882/latest.html\n",
    "##### Orchestrator \n",
    "Notebook / Service name: Orchestrator\n",
    "Functionality: Orchestrate multiple services in sequence to create end-to-end data workflows.\n",
    "##### Build Approach\n",
    "* Users to insert input parameters for each service required with a run sequence order and pipeline name\n",
    "* When a pipeline has to be run, read configs of pipeline from table and dynamically generate notebook run commands as per sequence order"
   ]
  }
 ],
 "metadata": {
  "application/vnd.databricks.v1+notebook": {
   "dashboards": [],
   "language": "python",
   "notebookMetadata": {
    "pythonIndentUnit": 2
   },
   "notebookName": "README",
   "widgets": {}
  }
 },
 "nbformat": 4,
 "nbformat_minor": 0
}
