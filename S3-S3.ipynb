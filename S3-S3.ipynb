{
 "cells": [
  {
   "cell_type": "code",
   "execution_count": 0,
   "metadata": {
    "application/vnd.databricks.v1+cell": {
     "cellMetadata": {
      "byteLimit": 2048000,
      "rowLimit": 10000
     },
     "inputWidgets": {},
     "nuid": "198ed048-e039-45cf-a849-762c92c9dcf5",
     "showTitle": true,
     "title": "Input Parameter Requirements"
    }
   },
   "outputs": [],
   "source": [
    "# Source S3 Access Name: Required\n",
    "# Source S3 File Path: Required [Formats allowed: s3://bucket/prefix/filename.txt, s3://bucket/prefix/filename_yyyymmdd.txt, _yyyymmddHHMMSS.txt]\n",
    "# Target S3 Access Name: Required\n",
    "# Target S3 File Path: Required [Formats allowed: s3://bucket/prefix/filename.txt, s3://bucket/prefix/filename_yyyymmdd.txt, _yyyymmddHHMMSS.txt]\n",
    "# [Note: If Source S3 File path doesn't have exact file path, renaming will be skipped]\n",
    "# Email Notification: Defaults to skip [Requires email id to send notification]"
   ]
  },
  {
   "cell_type": "code",
   "execution_count": 0,
   "metadata": {
    "application/vnd.databricks.v1+cell": {
     "cellMetadata": {
      "byteLimit": 2048000,
      "rowLimit": 10000
     },
     "inputWidgets": {},
     "nuid": "2869cf3e-5fea-4bec-b9a8-77edbe74b82f",
     "showTitle": true,
     "title": "Creating widgets"
    }
   },
   "outputs": [],
   "source": [
    "# #Source Inputs\n",
    "# dbutils.widgets.removeAll()\n",
    "# dbutils.widgets.text(\"Source_S3_Access\", \"\")\n",
    "# dbutils.widgets.text(\"Source_S3_File_Path\", \"\")\n",
    "\n",
    "# #Target Inputs\n",
    "# dbutils.widgets.text(\"Target_S3_Access\", \"\")\n",
    "# dbutils.widgets.text(\"Target_S3_File_Path\", \"\")\n",
    "# dbutils.widgets.text(\"Notification_Recipient\",\"\")"
   ]
  },
  {
   "cell_type": "code",
   "execution_count": 0,
   "metadata": {
    "application/vnd.databricks.v1+cell": {
     "cellMetadata": {
      "byteLimit": 2048000,
      "rowLimit": 10000
     },
     "inputWidgets": {},
     "nuid": "a9f64248-2123-4503-b412-37bd0c9b8ad8",
     "showTitle": true,
     "title": "Loading Configs"
    }
   },
   "outputs": [],
   "source": [
    "%run ./configs"
   ]
  },
  {
   "cell_type": "code",
   "execution_count": 0,
   "metadata": {
    "application/vnd.databricks.v1+cell": {
     "cellMetadata": {
      "byteLimit": 2048000,
      "rowLimit": 10000
     },
     "inputWidgets": {},
     "nuid": "b5ee5c3c-c4d7-4e2e-8ff7-d31057c7dd87",
     "showTitle": true,
     "title": "Validating Inputs"
    }
   },
   "outputs": [],
   "source": [
    "# Reading user inputs\n",
    "source_access = getArgument('Source_S3_Access').strip()\n",
    "source_s3_file = getArgument('Source_S3_File_Path').strip()\n",
    "target_access = getArgument('Target_S3_Access').strip()\n",
    "target_s3_file = getArgument('Target_S3_File_Path').strip()\n",
    "notify_recipient = getArgument('Notification_Recipient').strip()\n",
    "\n",
    "ss3_conn ={}\n",
    "ts3_conn ={}\n",
    "\n",
    "# Validating user inputs\n",
    "if source_access == '':\n",
    "  dbutils.notebook.exit(\"Source S3 Access name missing!\")\n",
    "elif source_s3_file == '':\n",
    "  dbutils.notebook.exit(\"Source File info missing!\")\n",
    "elif target_access == '':\n",
    "  dbutils.notebook.exit(\"Target S3 Access Name missing!\")\n",
    "elif target_s3_file == '':\n",
    "  dbutils.notebook.exit(\"Target S3 File Path missing!\")\n",
    "\n",
    "if source_access in s3_access_list: \n",
    "  ss3_conn['s3_access_key'] = s3_access_keys[source_access]\n",
    "  ss3_conn['s3_secret_key'] = s3_secret_keys[source_access]\n",
    "else:\n",
    "  dbutils.notebook.exit(\"Invalid Source S3 Access Name!\")\n",
    "\n",
    "if target_access in s3_access_list: \n",
    "  ts3_conn['s3_access_key'] = s3_access_keys[target_access]\n",
    "  ts3_conn['s3_secret_key'] = s3_secret_keys[target_access]\n",
    "else:\n",
    "  dbutils.notebook.exit(\"Invalid Target S3 Access Name!\")\n",
    "service = 'S3-S3'"
   ]
  },
  {
   "cell_type": "code",
   "execution_count": 0,
   "metadata": {
    "application/vnd.databricks.v1+cell": {
     "cellMetadata": {
      "byteLimit": 2048000,
      "rowLimit": 10000
     },
     "inputWidgets": {},
     "nuid": "b9f78560-c2e7-4518-b605-ff8865c69380",
     "showTitle": true,
     "title": "Importing Required libraries"
    }
   },
   "outputs": [],
   "source": [
    "import boto3\n",
    "import uuid\n",
    "import datetime, time\n",
    "from datetime import datetime\n",
    "import logging\n",
    "import re\n",
    "# Create a logger\n",
    "logger = logging.getLogger()\n",
    "logger.setLevel(logging.INFO)"
   ]
  },
  {
   "cell_type": "code",
   "execution_count": 0,
   "metadata": {
    "application/vnd.databricks.v1+cell": {
     "cellMetadata": {
      "byteLimit": 2048000,
      "rowLimit": 10000
     },
     "inputWidgets": {},
     "nuid": "a4606364-4a0d-46b5-8d30-eb2b6a91f700",
     "showTitle": true,
     "title": "Generating Run Identifier"
    }
   },
   "outputs": [
    {
     "output_type": "stream",
     "name": "stdout",
     "output_type": "stream",
     "text": [
      "run_id: b9836623-199b-4ad4-a12e-57051337161e\n"
     ]
    }
   ],
   "source": [
    "run_id = uuid.uuid4()\n",
    "print('run_id:',run_id)"
   ]
  },
  {
   "cell_type": "code",
   "execution_count": 0,
   "metadata": {
    "application/vnd.databricks.v1+cell": {
     "cellMetadata": {
      "byteLimit": 2048000,
      "rowLimit": 10000
     },
     "inputWidgets": {},
     "nuid": "14683d08-ef1a-4d8b-97be-d66b03e85744",
     "showTitle": true,
     "title": "SQL Query executor function"
    }
   },
   "outputs": [],
   "source": [
    "def run_logger(service,log_op, opn, srcfilename, rc, target,status):\n",
    "  \"\"\"\n",
    "  Inputs: SQL Query\n",
    "  Output: Returns True if success\n",
    "  \"\"\"\n",
    "\n",
    "  logging.info(f\"Updating run log table for {opn} operation.....\")\n",
    "  if log_op == 'insert' :\n",
    "    query = f\"INSERT INTO TABLE run_log VALUES('{service}','{run_id}','{source_access}','{source_s3_file}','{srcfilename}','{opn}',{rc},'{target_access}','{target}','{status}',current_timestamp())\"\n",
    "  elif log_op == 'update':\n",
    "    query = f\"UPDATE run_log SET status='{status}' where run_id = '{run_id}' and operation='{opn}'\"\n",
    "  # Executing SQL Query\n",
    "  spark.sql(query)\n",
    "  return True"
   ]
  },
  {
   "cell_type": "code",
   "execution_count": 0,
   "metadata": {
    "application/vnd.databricks.v1+cell": {
     "cellMetadata": {
      "byteLimit": 2048000,
      "rowLimit": 10000
     },
     "inputWidgets": {},
     "nuid": "1c101f02-bb16-4130-afc3-49aa99654ace",
     "showTitle": true,
     "title": "Function to check pattern and return latest file"
    }
   },
   "outputs": [],
   "source": [
    "def file_pattern_check(source_s3_path,s3_conn):\n",
    "  \"\"\"\n",
    "  Inputs: S3 connection details, S3 file path\n",
    "  Output: Return file with max timestamp of pattern present in file path\n",
    "  \"\"\"\n",
    "  logging.info('Executing File pattern check......')\n",
    "\n",
    "  s3_parts_1 = source_s3_path.split('/')\n",
    "  bucket_name = s3_parts_1[2]\n",
    "  prefix = '/'.join(s3_parts_1[3:-1])\n",
    "  s3_file_part = s3_parts_1[-1]\n",
    "  s3_parts_2 = s3_file_part.split('_')\n",
    "  file_name_pattern = '_'.join(s3_parts_2[:-1])\n",
    "  file_format = source_s3_path.split('.')[-1]\n",
    "\n",
    "  # Accessing keys from connection inputs\n",
    "  access_key = s3_conn['s3_access_key']\n",
    "  secret_key = s3_conn['s3_secret_key']\n",
    "\n",
    "  # Creating boto3 client\n",
    "  s3 = boto3.client('s3', aws_access_key_id=access_key, aws_secret_access_key=secret_key)\n",
    "  \n",
    "  # listing required files from s3 location\n",
    "  obj_list = s3.list_objects(Bucket=bucket_name, Prefix=prefix)\n",
    "  objs = [item['Key'] for item in obj_list['Contents']]\n",
    "  obj_req = []\n",
    "  match_list = []\n",
    "  for obj in objs:\n",
    "    if obj.endswith(('.txt', '.csv', '.parquet')) and (obj.count('/') < 2):\n",
    "      obj = obj.split('/')[-1]\n",
    "      obj_req.append(obj)\n",
    "\n",
    "  # listing files with pattern match\n",
    "  if 'yyyymmddHHMMSS' in source_s3_path :\n",
    "    pattern = rf\"{file_name_pattern}_\\d{{14}}\\.{file_format}\"\n",
    "    for obj in obj_req :\n",
    "      if re.match(pattern, obj):\n",
    "        match_list.append(obj)\n",
    "  elif 'yyyymmdd' in source_s3_path :\n",
    "    pattern = rf\"{file_name_pattern}_\\d{{8}}\\.{file_format}\"\n",
    "    for obj in obj_req:\n",
    "      if re.match(pattern, obj):\n",
    "        match_list.append(obj)\n",
    "\n",
    "  if len(match_list) == 0:\n",
    "    logging.info(f\"No files found at {source_s3_path} with input pattern\")\n",
    "    run_logger('S3-DB','insert','copy','',0,'','failed')\n",
    "    return None\n",
    "  else:\n",
    "    # Selecting latest timestamp file for return\n",
    "    latest_file = max(match_list)\n",
    "    logging.info(f\"Latest file for pattern - {pattern} at s3://{bucket_name}/{prefix}: {latest_file}\")\n",
    "    return latest_file\n",
    "  "
   ]
  },
  {
   "cell_type": "code",
   "execution_count": 0,
   "metadata": {
    "application/vnd.databricks.v1+cell": {
     "cellMetadata": {
      "byteLimit": 2048000,
      "rowLimit": 10000
     },
     "inputWidgets": {},
     "nuid": "da6bf73d-9f32-4a2a-a387-4f67e436ca50",
     "showTitle": true,
     "title": "Function to copy files between S3 locations"
    }
   },
   "outputs": [],
   "source": [
    "def s3_s3_copy(ss3_conn, ts3_conn, source_s3_file, target_s3_file):\n",
    "  \"\"\"\n",
    "  This function moves objects from source S3 to target S3\n",
    "  Inputs: S3 connection details - source & Target, s3_paths - Source & Target, \n",
    "  Outputs: return list of status, filepath, filename\n",
    "  \"\"\"\n",
    "\n",
    "  source_access_key = ss3_conn['s3_access_key']\n",
    "  source_secret_key = ss3_conn['s3_secret_key']\n",
    "  target_access_key = ts3_conn['s3_access_key']\n",
    "  target_secret_key = ts3_conn['s3_secret_key']\n",
    "\n",
    "  # Initialize S3 clients with different credentials\n",
    "  source_s3 = boto3.client('s3', aws_access_key_id=source_access_key, aws_secret_access_key=source_secret_key)\n",
    "  target_s3 = boto3.client('s3', aws_access_key_id=target_access_key, aws_secret_access_key=target_secret_key)\n",
    "  \n",
    "  current_time = datetime.now()\n",
    "  timestamp = current_time.strftime(\"%Y%m%d%H%M%S\")\n",
    "  current_day = datetime.today().date()\n",
    "  date = current_day.strftime(\"%Y%m%d\")\n",
    "\n",
    "  # Check if given path contains file name/file name pattern\n",
    "  if source_s3_file.endswith(('.txt', '.csv', '.parquet')):\n",
    "    # Retrieving buckets and prefix\n",
    "    ss3_parts_1 = source_s3_file.split('/')\n",
    "    source_bucket_name = ss3_parts_1[2]\n",
    "\n",
    "    if source_bucket_name == '':\n",
    "      logging.error(\"Invalid source file s3 path\")\n",
    "      run_logger('S3-S3','insert','copy','',0,target_s3_file,'failed')\n",
    "      return None\n",
    "\n",
    "    source_object_key = '/'.join(ss3_parts_1[3:])\n",
    "    source_file = ss3_parts_1[-1]\n",
    "\n",
    "    ss3_parts_2 = target_s3_file.split('/')\n",
    "    target_bucket_name = ss3_parts_2[2]\n",
    "\n",
    "    if target_bucket_name == '':\n",
    "      logging.error(\"Invalid target file s3 path\")\n",
    "      run_logger('S3-S3','insert','copy','',0,target_s3_file,'failed')\n",
    "      return None\n",
    "    \n",
    "    target_object_key = '/'.join(ss3_parts_2[3:])\n",
    "\n",
    "    # Check if there's any datetime pattern in input Source S3 path\n",
    "    if ('yyyymmdd' in source_file) or ('yyyymmddHHMMSS' in source_file):\n",
    "      latest_file = file_pattern_check(source_s3_file,ss3_conn)\n",
    "    \n",
    "    if latest_file:\n",
    "      source_object_key = '/'.join(ss3_parts_1[3:-1])\n",
    "      source_object_key = source_object_key + '/'+ latest_file\n",
    "      source_file = latest_file\n",
    "    else :\n",
    "      logging.error(\"Unable to get file of provided pattern...\")\n",
    "      run_logger('S3-S3','insert','copy','',0,target_s3_file,'failed')\n",
    "      return None\n",
    "\n",
    "    # Check if target file path contains target file name\n",
    "    if target_s3_file.endswith(('.txt', '.csv', '.parquet')):\n",
    "      target_file_name = target_s3_file.split('/')[-1]\n",
    "      if ('_yyyymmddHHMMSS' in target_s3_file) :\n",
    "        file_parts = target_file_name.split('_yyyymmddHHMMSS')\n",
    "        file_name = file_parts[0]+'_'+timestamp+file_parts[1]\n",
    "        target_object_key = '/'.join(ss3_parts_2[3:-1])\n",
    "        target_object_key = target_object_key + '/'+ file_name\n",
    "\n",
    "      elif ('_yyyymmdd' in target_s3_file) :\n",
    "        file_parts = target_file_name.split('_yyyymmdd')\n",
    "        file_name = file_parts[0]+'_'+date+file_parts[1]\n",
    "        target_object_key = '/'.join(ss3_parts_2[3:-1])\n",
    "        target_object_key = target_object_key + '/'+ file_name\n",
    "    else:\n",
    "      # If target name is not present use source file name as key at target S3\n",
    "      if not target_object_key.endswith('/') :\n",
    "        file_name = source_file\n",
    "        target_object_key = target_object_key+'/'+file_name\n",
    "      else:\n",
    "        file_name = source_file\n",
    "        target_object_key = target_object_key + file_name\n",
    "\n",
    "    # Copy the object from source bucket to target bucket\n",
    "    target_s3.copy_object(Bucket=target_bucket_name, Key=target_object_key, CopySource={'Bucket': source_bucket_name, 'Key': source_object_key})\n",
    "    tgt = 's3://'+target_bucket_name+'/'+target_object_key\n",
    "    run_logger('S3-S3', 'insert','copy',file_name,1,tgt,'success')\n",
    "    return [True, file_name,1]\n",
    "\n",
    "  else:\n",
    "\n",
    "    ss3_parts_1 = source_s3_file.split('/')\n",
    "    source_bucket_name = ss3_parts_1[2]\n",
    "\n",
    "    if source_bucket_name == '':\n",
    "      logging.error(\"Invalid source file s3 path\")\n",
    "      run_logger('S3-S3','insert','copy','',0,target_s3_file,'failed')\n",
    "      return None\n",
    "\n",
    "    source_prefix = '/'.join(ss3_parts_1[3:])\n",
    "    if not source_prefix.endswith('/'):\n",
    "      source_prefix = source_prefix+'/'\n",
    "\n",
    "    ss3_parts_2 = target_s3_file.split('/')\n",
    "    target_bucket_name = ss3_parts_2[2]\n",
    "\n",
    "    if target_bucket_name == '':\n",
    "      logging.error(\"Invalid target file s3 path\")\n",
    "      run_logger('S3-S3','insert','copy','',0,target_s3_file,'failed')\n",
    "      return None\n",
    "\n",
    "    target_object_key = '/'.join(ss3_parts_2[3:])\n",
    "    if not target_object_key.endswith('/'):\n",
    "      target_object_key = target_object_key+'/'\n",
    "\n",
    "    # List all objects in the source bucket\n",
    "    response = source_s3.list_objects_v2(Bucket=source_bucket_name, Prefix=source_prefix)\n",
    "\n",
    "    if 'Contents' in response:\n",
    "      objects_to_copy = response['Contents']\n",
    "    \n",
    "    # Check if there are any files present at given S3 path\n",
    "    obj_list = []\n",
    "    for obj in objects_to_copy:\n",
    "      if obj['Key'].endswith('/'):\n",
    "        continue\n",
    "      else:\n",
    "        obj_list.append(obj['Key'])\n",
    "    # If no files present at given S3 Exit\n",
    "    if len(obj_list) == 0:\n",
    "      logging.info(\"No files at source s3 file path\")\n",
    "      run_logger('S3-S3','insert','copy','',0,target_s3_file,'failed')\n",
    "      return None\n",
    "    else:\n",
    "      try:\n",
    "        # Copy each object to the destination path\n",
    "        nobj=0\n",
    "        for obj in objects_to_copy:\n",
    "          source_object_key = obj['Key']\n",
    "          destination_object_key = target_object_key + source_object_key[len(source_prefix):]\n",
    "          # Copy the object from source bucket to destination bucket\n",
    "          target_s3.copy_object(Bucket=target_bucket_name, Key=destination_object_key, CopySource={'Bucket': source_bucket_name, 'Key': source_object_key})\n",
    "          nobj+=1\n",
    "        tgt = 's3://'+target_bucket_name+'/'+destination_object_key\n",
    "        run_logger('S3-S3', 'insert','copy','MultipleFiles',nobj,tgt,'success')\n",
    "        return [True,nobj]\n",
    "      except Exception as e:\n",
    "        logging.error(f\"Unable to copy files to target s3:{e}\")\n",
    "        run_logger('S3-S3', 'insert','copy','MultipleFiles',0,target_s3_file,'failed')\n",
    "        return None"
   ]
  },
  {
   "cell_type": "code",
   "execution_count": 0,
   "metadata": {
    "application/vnd.databricks.v1+cell": {
     "cellMetadata": {
      "byteLimit": 2048000,
      "rowLimit": 10000
     },
     "inputWidgets": {},
     "nuid": "7b60f250-2142-4311-b2d4-2d9dbe460903",
     "showTitle": true,
     "title": "Calling main function"
    }
   },
   "outputs": [
    {
     "output_type": "stream",
     "name": "stderr",
     "output_type": "stream",
     "text": [
      "INFO:root:Executing File pattern check......\nINFO:root:Latest file for pattern - sftp_\\d{8}\\.txt at s3://sdevalla-portfolio/orch_test: sftp_20240323.txt\nINFO:root:Updating run log table for copy operation.....\nINFO:root:File Transfer Successful to Target S3 path with key sftp_20240323.txt!\n"
     ]
    }
   ],
   "source": [
    "result = s3_s3_copy(ss3_conn, ts3_conn, source_s3_file, target_s3_file)\n",
    "if result:\n",
    "  if len(result) == 3:\n",
    "    file_name = result[1]\n",
    "    logging.info(f\"File Transfer Successful to Target S3 path with key {file_name}!\")\n",
    "  else:\n",
    "    n = result[1]\n",
    "    logging.info(f\"{n} objects Transferred from Source S3 to Target S3 path!\")\n",
    "else:\n",
    "  logging.info(\"File Transfer Failed!\")"
   ]
  },
  {
   "cell_type": "code",
   "execution_count": 0,
   "metadata": {
    "application/vnd.databricks.v1+cell": {
     "cellMetadata": {
      "byteLimit": 2048000,
      "rowLimit": 10000
     },
     "inputWidgets": {},
     "nuid": "8fc10750-c508-4e07-955d-1ab46f01b27f",
     "showTitle": true,
     "title": "Function to send Email Notification"
    }
   },
   "outputs": [],
   "source": [
    "from botocore.exceptions import ClientError\n",
    "def send_email(subject, body_html, sender, recipients):\n",
    "\n",
    "  \"\"\"\n",
    "  This function sends email notification to recipeints on run status\n",
    "  Inputs: Email content, receiver email address list\n",
    "  Output: Success/Failure message\n",
    "  \"\"\"\n",
    "  access_key = ses_conn['access_key']\n",
    "  secret_key = ses_conn['secret_key']\n",
    "\n",
    "  #Creating boto3 ses client\n",
    "  ses_client = boto3.client('ses', aws_access_key_id=access_key, aws_secret_access_key=secret_key, region_name = 'us-east-2')\n",
    "\n",
    "  # Create a MIME message\n",
    "  body_text = \"This email requires HTML support. Please view in a HTML-compatible email client.\"\n",
    "  charset = \"UTF-8\"\n",
    "  \n",
    "  # Assemble the email\n",
    "  try:\n",
    "      response = ses_client.send_email(\n",
    "          Destination={\n",
    "              'ToAddresses': recipients,\n",
    "          },\n",
    "          Message={\n",
    "              'Body': {\n",
    "                  'Html': {\n",
    "                      'Charset': charset,\n",
    "                      'Data': body_html,\n",
    "                  },\n",
    "                  'Text': {\n",
    "                      'Charset': charset,\n",
    "                      'Data': body_text,\n",
    "                  },\n",
    "              },\n",
    "              'Subject': {\n",
    "                  'Charset': charset,\n",
    "                  'Data': subject,\n",
    "              },\n",
    "          },\n",
    "          Source=sender,\n",
    "      )\n",
    "  except ClientError as e:\n",
    "      print(e.response['Error']['Message'])\n",
    "  else:\n",
    "      print(\"Email sent! Message ID:\", response['MessageId'])"
   ]
  },
  {
   "cell_type": "code",
   "execution_count": 0,
   "metadata": {
    "application/vnd.databricks.v1+cell": {
     "cellMetadata": {
      "byteLimit": 2048000,
      "rowLimit": 10000
     },
     "inputWidgets": {},
     "nuid": "1bcd5fa1-290c-4da8-9883-4bc8bbee697f",
     "showTitle": true,
     "title": "Function to create HTML Body"
    }
   },
   "outputs": [],
   "source": [
    "def dataframe_to_html_table(df):\n",
    "    # Convert DataFrame to HTML table\n",
    "    html_table = df.to_html(index=False)\n",
    "    # Add inline CSS styling to color the header\n",
    "    styled_header = '<th style=\"background-color: #FB451D; color: white;\">'\n",
    "    html_table = html_table.replace('<th>', styled_header)\n",
    "    # Format the HTML table\n",
    "    formatted_html_table = f'<html><body>{html_table}</body></html>'\n",
    "    return formatted_html_table"
   ]
  },
  {
   "cell_type": "code",
   "execution_count": 0,
   "metadata": {
    "application/vnd.databricks.v1+cell": {
     "cellMetadata": {
      "byteLimit": 2048000,
      "rowLimit": 10000
     },
     "inputWidgets": {},
     "nuid": "4a1337fc-dfc8-42cc-a499-4a13235ee7d3",
     "showTitle": true,
     "title": "Calling Email Notification function"
    }
   },
   "outputs": [
    {
     "output_type": "display_data",
     "data": {
      "text/html": [
       "<html><body><p>Hi,</p><p>Please find the status of service: S3-S3 with run id: b9836623-199b-4ad4-a12e-57051337161e</p><html><body><table border=\"1\" class=\"dataframe\">\n",
       "  <thead>\n",
       "    <tr style=\"text-align: right;\">\n",
       "      <th style=\"background-color: #FB451D; color: white;\">Service</th>\n",
       "      <th style=\"background-color: #FB451D; color: white;\">Source_S3</th>\n",
       "      <th style=\"background-color: #FB451D; color: white;\">Source File</th>\n",
       "      <th style=\"background-color: #FB451D; color: white;\">Task</th>\n",
       "      <th style=\"background-color: #FB451D; color: white;\">File_Count</th>\n",
       "      <th style=\"background-color: #FB451D; color: white;\">Target_S3</th>\n",
       "      <th style=\"background-color: #FB451D; color: white;\">Status</th>\n",
       "      <th style=\"background-color: #FB451D; color: white;\">Timestamp</th>\n",
       "    </tr>\n",
       "  </thead>\n",
       "  <tbody>\n",
       "    <tr>\n",
       "      <td>S3-S3</td>\n",
       "      <td>s3://sdevalla-portfolio/orch_test/sftp_yyyymmdd.txt</td>\n",
       "      <td>sftp_20240323.txt</td>\n",
       "      <td>copy</td>\n",
       "      <td>1</td>\n",
       "      <td>s3://sdevalla-buck/test/sftp_20240323.txt</td>\n",
       "      <td>success</td>\n",
       "      <td>2024-03-23 16:27:37.322</td>\n",
       "    </tr>\n",
       "  </tbody>\n",
       "</table></body></html></body></html>"
      ]
     },
     "metadata": {
      "application/vnd.databricks.v1+output": {
       "addedWidgets": {},
       "arguments": {},
       "data": "<html><body><p>Hi,</p><p>Please find the status of service: S3-S3 with run id: b9836623-199b-4ad4-a12e-57051337161e</p><html><body><table border=\"1\" class=\"dataframe\">\n  <thead>\n    <tr style=\"text-align: right;\">\n      <th style=\"background-color: #FB451D; color: white;\">Service</th>\n      <th style=\"background-color: #FB451D; color: white;\">Source_S3</th>\n      <th style=\"background-color: #FB451D; color: white;\">Source File</th>\n      <th style=\"background-color: #FB451D; color: white;\">Task</th>\n      <th style=\"background-color: #FB451D; color: white;\">File_Count</th>\n      <th style=\"background-color: #FB451D; color: white;\">Target_S3</th>\n      <th style=\"background-color: #FB451D; color: white;\">Status</th>\n      <th style=\"background-color: #FB451D; color: white;\">Timestamp</th>\n    </tr>\n  </thead>\n  <tbody>\n    <tr>\n      <td>S3-S3</td>\n      <td>s3://sdevalla-portfolio/orch_test/sftp_yyyymmdd.txt</td>\n      <td>sftp_20240323.txt</td>\n      <td>copy</td>\n      <td>1</td>\n      <td>s3://sdevalla-buck/test/sftp_20240323.txt</td>\n      <td>success</td>\n      <td>2024-03-23 16:27:37.322</td>\n    </tr>\n  </tbody>\n</table></body></html></body></html>",
       "datasetInfos": [],
       "metadata": {},
       "removedWidgets": [],
       "textData": null,
       "type": "htmlSandbox"
      }
     },
     "output_type": "display_data"
    },
    {
     "output_type": "stream",
     "name": "stdout",
     "output_type": "stream",
     "text": [
      "No recipients to send email!\n"
     ]
    }
   ],
   "source": [
    "subject = f\"{service} run status for run id - {run_id}\"\n",
    "df = spark.sql(\"\"\" select distinct service as Service, source_path_table as `Source_S3`, source_file_dml as `Source File`, operation as Task,  record_count as File_Count, target_path_table as Target_S3, Status, Timestamp from run_log where run_id = '{}' order by task \"\"\".format(run_id ))\n",
    "html_table = dataframe_to_html_table(df.toPandas())\n",
    "body_html = f\"<html><body><p>Hi,</p><p>Please find the status of service: {service} with run id: {run_id}</p>{html_table}</body></html>\"\n",
    "displayHTML(body_html)\n",
    "sender = \"noreplyd22snotification@gmail.com\"\n",
    "if notify_recipient != '' :\n",
    "  recipients = notify_recipient.split(',')\n",
    "else:\n",
    "   recipients = []\n",
    "if len(recipients) > 0:\n",
    "  send_email(subject, body_html, sender, recipients)\n",
    "else:\n",
    "  print('No recipients to send email!')"
   ]
  }
 ],
 "metadata": {
  "application/vnd.databricks.v1+notebook": {
   "dashboards": [],
   "language": "python",
   "notebookMetadata": {
    "mostRecentlyExecutedCommandWithImplicitDF": {
     "commandId": 3497264830918376,
     "dataframes": [
      "_sqldf"
     ]
    },
    "pythonIndentUnit": 2,
    "widgetLayout": [
     {
      "breakBefore": false,
      "name": "Source_S3_Access",
      "width": 166
     },
     {
      "breakBefore": false,
      "name": "Source_S3_File_Path",
      "width": 529
     },
     {
      "breakBefore": false,
      "name": "Target_S3_Access",
      "width": 166
     },
     {
      "breakBefore": false,
      "name": "Target_S3_File_Path",
      "width": 529
     },
     {
      "breakBefore": false,
      "name": "Notification_Recipient",
      "width": 1437
     }
    ]
   },
   "notebookName": "S3-S3",
   "widgets": {
    "Notification_Recipient": {
     "currentValue": "",
     "nuid": "8af16a3c-4feb-4b2a-87ba-5e3b2a592600",
     "widgetInfo": {
      "widgetType": "text",
      "defaultValue": "",
      "label": null,
      "name": "Notification_Recipient",
      "options": {
       "widgetType": "text",
       "autoCreated": null,
       "validationRegex": null
      }
     }
    },
    "Source_S3_Access": {
     "currentValue": "sd_s3",
     "nuid": "d5f547f0-5549-4833-b85f-40cff0c89060",
     "widgetInfo": {
      "widgetType": "text",
      "defaultValue": "",
      "label": null,
      "name": "Source_S3_Access",
      "options": {
       "widgetType": "text",
       "autoCreated": null,
       "validationRegex": null
      }
     }
    },
    "Source_S3_File_Path": {
     "currentValue": "s3://sdevalla-portfolio/orch_test/sftp_yyyymmdd.txt",
     "nuid": "450c2cc8-9d63-4cdf-abbe-e879068324d1",
     "widgetInfo": {
      "widgetType": "text",
      "defaultValue": "",
      "label": null,
      "name": "Source_S3_File_Path",
      "options": {
       "widgetType": "text",
       "autoCreated": null,
       "validationRegex": null
      }
     }
    },
    "Target_S3_Access": {
     "currentValue": "sd_s32",
     "nuid": "c569f22c-cbbb-488a-946d-a8903e6a4987",
     "widgetInfo": {
      "widgetType": "text",
      "defaultValue": "",
      "label": null,
      "name": "Target_S3_Access",
      "options": {
       "widgetType": "text",
       "autoCreated": null,
       "validationRegex": null
      }
     }
    },
    "Target_S3_File_Path": {
     "currentValue": "s3://sdevalla-buck/test/",
     "nuid": "9f1edfeb-5ea2-4408-8fe1-b0e5a90dc9d6",
     "widgetInfo": {
      "widgetType": "text",
      "defaultValue": "",
      "label": null,
      "name": "Target_S3_File_Path",
      "options": {
       "widgetType": "text",
       "autoCreated": null,
       "validationRegex": null
      }
     }
    }
   }
  }
 },
 "nbformat": 4,
 "nbformat_minor": 0
}
