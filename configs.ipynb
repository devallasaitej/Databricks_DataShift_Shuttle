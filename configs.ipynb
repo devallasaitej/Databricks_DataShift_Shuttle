{
 "cells": [
  {
   "cell_type": "code",
   "execution_count": 0,
   "metadata": {
    "application/vnd.databricks.v1+cell": {
     "cellMetadata": {
      "byteLimit": 2048000,
      "rowLimit": 10000
     },
     "inputWidgets": {},
     "nuid": "35d08025-8402-473c-b0c9-aaf8efcdde50",
     "showTitle": true,
     "title": "S3 Configs"
    }
   },
   "outputs": [],
   "source": [
    "s3_access_list = ['sd_s3','sd_s32']\n",
    "s3_access_keys = {'sd_s3':'Acces key here','sd_s32':''}\n",
    "s3_secret_keys = {'sd_s3':'Secret key here','sd_s32':''}"
   ]
  },
  {
   "cell_type": "code",
   "execution_count": 0,
   "metadata": {
    "application/vnd.databricks.v1+cell": {
     "cellMetadata": {},
     "inputWidgets": {},
     "nuid": "626f1a82-30e6-4172-8a8d-f40650cc8679",
     "showTitle": true,
     "title": "DB Configs"
    }
   },
   "outputs": [],
   "source": [
    "db_access_list = ['sd_rds']\n",
    "db_hosts = {'sd_rds':'host info'}\n",
    "db_usernames = {'sd_rds':'username'}\n",
    "db_passwords = {'sd_rds':'password'}"
   ]
  },
  {
   "cell_type": "code",
   "execution_count": 0,
   "metadata": {
    "application/vnd.databricks.v1+cell": {
     "cellMetadata": {},
     "inputWidgets": {},
     "nuid": "93e697b8-d699-42be-82d8-4f05d122515a",
     "showTitle": true,
     "title": "SFTP Configs"
    }
   },
   "outputs": [],
   "source": [
    "sftp_access_list = ['sftp_sd']\n",
    "sftp_hosts = {'sftp_sd':'host'}\n",
    "sftp_username = {'sftp_sd':'username'}\n",
    "sftp_password = {'sftp_sd':'password'}"
   ]
  },
  {
   "cell_type": "code",
   "execution_count": 0,
   "metadata": {
    "application/vnd.databricks.v1+cell": {
     "cellMetadata": {},
     "inputWidgets": {},
     "nuid": "9d437e33-ef3b-400a-9a1e-cd8aa477ecc4",
     "showTitle": true,
     "title": "SES Configs"
    }
   },
   "outputs": [],
   "source": [
    "ses_conn = {'access_key': 'Access key', 'secret_key': 'Secret key'}"
   ]
  },
  {
   "cell_type": "code",
   "execution_count": 0,
   "metadata": {
    "application/vnd.databricks.v1+cell": {
     "cellMetadata": {
      "byteLimit": 2048000,
      "rowLimit": 10000
     },
     "inputWidgets": {},
     "nuid": "67bc3373-e258-4a59-b7e7-e006e9eb7608",
     "showTitle": true,
     "title": "Pre-Req-1"
    }
   },
   "outputs": [
    {
     "output_type": "stream",
     "name": "stdout",
     "output_type": "stream",
     "text": [
      "Out[1]: True"
     ]
    }
   ],
   "source": [
    "# dbutils.fs.rm(\"dbfs:/user/hive/warehouse/run_log\", True)"
   ]
  },
  {
   "cell_type": "code",
   "execution_count": 0,
   "metadata": {
    "application/vnd.databricks.v1+cell": {
     "cellMetadata": {
      "byteLimit": 2048000,
      "implicitDf": true,
      "rowLimit": 10000
     },
     "inputWidgets": {},
     "nuid": "23c934ff-ffa9-4635-8448-d37b17356bc2",
     "showTitle": true,
     "title": "Pre-Req-2"
    }
   },
   "outputs": [
    {
     "output_type": "display_data",
     "data": {
      "text/html": [
       "<style scoped>\n",
       "  .table-result-container {\n",
       "    max-height: 300px;\n",
       "    overflow: auto;\n",
       "  }\n",
       "  table, th, td {\n",
       "    border: 1px solid black;\n",
       "    border-collapse: collapse;\n",
       "  }\n",
       "  th, td {\n",
       "    padding: 5px;\n",
       "  }\n",
       "  th {\n",
       "    text-align: left;\n",
       "  }\n",
       "</style><div class='table-result-container'><table class='table-result'><thead style='background-color: white'><tr></tr></thead><tbody></tbody></table></div>"
      ]
     },
     "metadata": {
      "application/vnd.databricks.v1+output": {
       "addedWidgets": {},
       "aggData": [],
       "aggError": "",
       "aggOverflow": false,
       "aggSchema": [],
       "aggSeriesLimitReached": false,
       "aggType": "",
       "arguments": {},
       "columnCustomDisplayInfos": {},
       "data": [],
       "datasetInfos": [],
       "dbfsResultPath": null,
       "isJsonSchema": true,
       "metadata": {},
       "overflow": false,
       "plotOptions": {
        "customPlotOptions": {},
        "displayType": "table",
        "pivotAggregation": null,
        "pivotColumns": null,
        "xColumns": null,
        "yColumns": null
       },
       "removedWidgets": [],
       "schema": [],
       "type": "table"
      }
     },
     "output_type": "display_data"
    }
   ],
   "source": [
    "# %sql\n",
    "# DROP TABLE IF EXISTS run_log\n",
    "# CREATE OR REPLACE TABLE run_log\n",
    "# (service string,\n",
    "#  run_id string,\n",
    "#  source_access string, \n",
    "#  source_path_table string, \n",
    "#  source_file_dml string, \n",
    "#  operation string, \n",
    "#  record_count integer, \n",
    "#  target_access string, \n",
    "#  target_path_table string, \n",
    "#  status string, \n",
    "#  Timestamp timestamp ) using delta"
   ]
  },
  {
   "cell_type": "code",
   "execution_count": 0,
   "metadata": {
    "application/vnd.databricks.v1+cell": {
     "cellMetadata": {
      "byteLimit": 2048000,
      "implicitDf": true,
      "rowLimit": 10000
     },
     "inputWidgets": {},
     "nuid": "0a2e45e5-8cb2-4c2a-a7ef-922daf4de5d3",
     "showTitle": false,
     "title": ""
    }
   },
   "outputs": [
    {
     "output_type": "display_data",
     "data": {
      "text/html": [
       "<style scoped>\n",
       "  .table-result-container {\n",
       "    max-height: 300px;\n",
       "    overflow: auto;\n",
       "  }\n",
       "  table, th, td {\n",
       "    border: 1px solid black;\n",
       "    border-collapse: collapse;\n",
       "  }\n",
       "  th, td {\n",
       "    padding: 5px;\n",
       "  }\n",
       "  th {\n",
       "    text-align: left;\n",
       "  }\n",
       "</style><div class='table-result-container'><table class='table-result'><thead style='background-color: white'><tr><th>service</th><th>run_id</th><th>source_access</th><th>source_path_table</th><th>source_file_dml</th><th>operation</th><th>record_count</th><th>target_access</th><th>target_path_table</th><th>status</th><th>Timestamp</th></tr></thead><tbody></tbody></table></div>"
      ]
     },
     "metadata": {
      "application/vnd.databricks.v1+output": {
       "addedWidgets": {},
       "aggData": [],
       "aggError": "",
       "aggOverflow": false,
       "aggSchema": [],
       "aggSeriesLimitReached": false,
       "aggType": "",
       "arguments": {},
       "columnCustomDisplayInfos": {},
       "data": [],
       "datasetInfos": [],
       "dbfsResultPath": null,
       "isJsonSchema": true,
       "metadata": {},
       "overflow": false,
       "plotOptions": {
        "customPlotOptions": {},
        "displayType": "table",
        "pivotAggregation": null,
        "pivotColumns": null,
        "xColumns": null,
        "yColumns": null
       },
       "removedWidgets": [],
       "schema": [
        {
         "metadata": "{}",
         "name": "service",
         "type": "\"string\""
        },
        {
         "metadata": "{}",
         "name": "run_id",
         "type": "\"string\""
        },
        {
         "metadata": "{}",
         "name": "source_access",
         "type": "\"string\""
        },
        {
         "metadata": "{}",
         "name": "source_path_table",
         "type": "\"string\""
        },
        {
         "metadata": "{}",
         "name": "source_file_dml",
         "type": "\"string\""
        },
        {
         "metadata": "{}",
         "name": "operation",
         "type": "\"string\""
        },
        {
         "metadata": "{}",
         "name": "record_count",
         "type": "\"integer\""
        },
        {
         "metadata": "{}",
         "name": "target_access",
         "type": "\"string\""
        },
        {
         "metadata": "{}",
         "name": "target_path_table",
         "type": "\"string\""
        },
        {
         "metadata": "{}",
         "name": "status",
         "type": "\"string\""
        },
        {
         "metadata": "{}",
         "name": "Timestamp",
         "type": "\"timestamp\""
        }
       ],
       "type": "table"
      }
     },
     "output_type": "display_data"
    }
   ],
   "source": [
    "# %sql\n",
    "# select * from run_log"
   ]
  }
 ],
 "metadata": {
  "application/vnd.databricks.v1+notebook": {
   "dashboards": [],
   "language": "python",
   "notebookMetadata": {
    "mostRecentlyExecutedCommandWithImplicitDF": {
     "commandId": 1662342756561208,
     "dataframes": [
      "_sqldf"
     ]
    },
    "pythonIndentUnit": 2
   },
   "notebookName": "configs_clone",
   "widgets": {}
  }
 },
 "nbformat": 4,
 "nbformat_minor": 0
}
